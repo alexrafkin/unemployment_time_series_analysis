{
  "nbformat": 4,
  "nbformat_minor": 0,
  "metadata": {
    "colab": {
      "name": "Unemployment_TSA.ipynb",
      "provenance": [],
      "authorship_tag": "ABX9TyPspUl8Ba+hT+AniCaBmg3u",
      "include_colab_link": true
    },
    "kernelspec": {
      "name": "python3",
      "display_name": "Python 3"
    }
  },
  "cells": [
    {
      "cell_type": "markdown",
      "metadata": {
        "id": "view-in-github",
        "colab_type": "text"
      },
      "source": [
        "<a href=\"https://colab.research.google.com/github/alexrafkin/unemployment_time_series_analysis/blob/main/Unemployment_TSA.ipynb\" target=\"_parent\"><img src=\"https://colab.research.google.com/assets/colab-badge.svg\" alt=\"Open In Colab\"/></a>"
      ]
    },
    {
      "cell_type": "code",
      "metadata": {
        "id": "gWq8n6fq4dC4"
      },
      "source": [
        "import numpy as np\n",
        "import pandas as pd\n",
        "import scipy\n",
        "from datetime import datetime\n",
        "import datetime as dt\n",
        "import matplotlib.pyplot as plt\n",
        "%matplotlib inline\n",
        "import warnings\n",
        "warnings.filterwarnings('ignore')"
      ],
      "execution_count": null,
      "outputs": []
    },
    {
      "cell_type": "code",
      "metadata": {
        "colab": {
          "base_uri": "https://localhost:8080/",
          "height": 512
        },
        "id": "DOtH7gQ64p2P",
        "outputId": "8da46993-033b-45cf-a7f9-d11749291cbd"
      },
      "source": [
        "url = 'https://drive.google.com/file/d/19LMGSXD8OPVuopiug_lPiiNhL_8cDl2p/view?usp=sharing'\n",
        "path = 'https://drive.google.com/uc?export=download&id='+url.split('/')[-2]\n",
        "\n",
        "unemployment = pd.read_csv(path)\n",
        "unemployment.info()\n",
        "unemployment.head(10)"
      ],
      "execution_count": null,
      "outputs": [
        {
          "output_type": "stream",
          "text": [
            "<class 'pandas.core.frame.DataFrame'>\n",
            "RangeIndex: 877 entries, 0 to 876\n",
            "Data columns (total 2 columns):\n",
            " #   Column  Non-Null Count  Dtype  \n",
            "---  ------  --------------  -----  \n",
            " 0   DATE    877 non-null    object \n",
            " 1   UNRATE  877 non-null    float64\n",
            "dtypes: float64(1), object(1)\n",
            "memory usage: 13.8+ KB\n"
          ],
          "name": "stdout"
        },
        {
          "output_type": "execute_result",
          "data": {
            "text/html": [
              "<div>\n",
              "<style scoped>\n",
              "    .dataframe tbody tr th:only-of-type {\n",
              "        vertical-align: middle;\n",
              "    }\n",
              "\n",
              "    .dataframe tbody tr th {\n",
              "        vertical-align: top;\n",
              "    }\n",
              "\n",
              "    .dataframe thead th {\n",
              "        text-align: right;\n",
              "    }\n",
              "</style>\n",
              "<table border=\"1\" class=\"dataframe\">\n",
              "  <thead>\n",
              "    <tr style=\"text-align: right;\">\n",
              "      <th></th>\n",
              "      <th>DATE</th>\n",
              "      <th>UNRATE</th>\n",
              "    </tr>\n",
              "  </thead>\n",
              "  <tbody>\n",
              "    <tr>\n",
              "      <th>0</th>\n",
              "      <td>1948-01-01</td>\n",
              "      <td>3.4</td>\n",
              "    </tr>\n",
              "    <tr>\n",
              "      <th>1</th>\n",
              "      <td>1948-02-01</td>\n",
              "      <td>3.8</td>\n",
              "    </tr>\n",
              "    <tr>\n",
              "      <th>2</th>\n",
              "      <td>1948-03-01</td>\n",
              "      <td>4.0</td>\n",
              "    </tr>\n",
              "    <tr>\n",
              "      <th>3</th>\n",
              "      <td>1948-04-01</td>\n",
              "      <td>3.9</td>\n",
              "    </tr>\n",
              "    <tr>\n",
              "      <th>4</th>\n",
              "      <td>1948-05-01</td>\n",
              "      <td>3.5</td>\n",
              "    </tr>\n",
              "    <tr>\n",
              "      <th>5</th>\n",
              "      <td>1948-06-01</td>\n",
              "      <td>3.6</td>\n",
              "    </tr>\n",
              "    <tr>\n",
              "      <th>6</th>\n",
              "      <td>1948-07-01</td>\n",
              "      <td>3.6</td>\n",
              "    </tr>\n",
              "    <tr>\n",
              "      <th>7</th>\n",
              "      <td>1948-08-01</td>\n",
              "      <td>3.9</td>\n",
              "    </tr>\n",
              "    <tr>\n",
              "      <th>8</th>\n",
              "      <td>1948-09-01</td>\n",
              "      <td>3.8</td>\n",
              "    </tr>\n",
              "    <tr>\n",
              "      <th>9</th>\n",
              "      <td>1948-10-01</td>\n",
              "      <td>3.7</td>\n",
              "    </tr>\n",
              "  </tbody>\n",
              "</table>\n",
              "</div>"
            ],
            "text/plain": [
              "         DATE  UNRATE\n",
              "0  1948-01-01     3.4\n",
              "1  1948-02-01     3.8\n",
              "2  1948-03-01     4.0\n",
              "3  1948-04-01     3.9\n",
              "4  1948-05-01     3.5\n",
              "5  1948-06-01     3.6\n",
              "6  1948-07-01     3.6\n",
              "7  1948-08-01     3.9\n",
              "8  1948-09-01     3.8\n",
              "9  1948-10-01     3.7"
            ]
          },
          "metadata": {
            "tags": []
          },
          "execution_count": 17
        }
      ]
    },
    {
      "cell_type": "code",
      "metadata": {
        "colab": {
          "base_uri": "https://localhost:8080/",
          "height": 669
        },
        "id": "fX6Wl0OUoxK4",
        "outputId": "3d29f076-6c44-41f4-8e44-6e456f3d550e"
      },
      "source": [
        "unemployment.tail(20)"
      ],
      "execution_count": null,
      "outputs": [
        {
          "output_type": "execute_result",
          "data": {
            "text/html": [
              "<div>\n",
              "<style scoped>\n",
              "    .dataframe tbody tr th:only-of-type {\n",
              "        vertical-align: middle;\n",
              "    }\n",
              "\n",
              "    .dataframe tbody tr th {\n",
              "        vertical-align: top;\n",
              "    }\n",
              "\n",
              "    .dataframe thead th {\n",
              "        text-align: right;\n",
              "    }\n",
              "</style>\n",
              "<table border=\"1\" class=\"dataframe\">\n",
              "  <thead>\n",
              "    <tr style=\"text-align: right;\">\n",
              "      <th></th>\n",
              "      <th>DATE</th>\n",
              "      <th>UNRATE</th>\n",
              "    </tr>\n",
              "  </thead>\n",
              "  <tbody>\n",
              "    <tr>\n",
              "      <th>857</th>\n",
              "      <td>2019-06-01</td>\n",
              "      <td>3.6</td>\n",
              "    </tr>\n",
              "    <tr>\n",
              "      <th>858</th>\n",
              "      <td>2019-07-01</td>\n",
              "      <td>3.6</td>\n",
              "    </tr>\n",
              "    <tr>\n",
              "      <th>859</th>\n",
              "      <td>2019-08-01</td>\n",
              "      <td>3.7</td>\n",
              "    </tr>\n",
              "    <tr>\n",
              "      <th>860</th>\n",
              "      <td>2019-09-01</td>\n",
              "      <td>3.5</td>\n",
              "    </tr>\n",
              "    <tr>\n",
              "      <th>861</th>\n",
              "      <td>2019-10-01</td>\n",
              "      <td>3.6</td>\n",
              "    </tr>\n",
              "    <tr>\n",
              "      <th>862</th>\n",
              "      <td>2019-11-01</td>\n",
              "      <td>3.6</td>\n",
              "    </tr>\n",
              "    <tr>\n",
              "      <th>863</th>\n",
              "      <td>2019-12-01</td>\n",
              "      <td>3.6</td>\n",
              "    </tr>\n",
              "    <tr>\n",
              "      <th>864</th>\n",
              "      <td>2020-01-01</td>\n",
              "      <td>3.5</td>\n",
              "    </tr>\n",
              "    <tr>\n",
              "      <th>865</th>\n",
              "      <td>2020-02-01</td>\n",
              "      <td>3.5</td>\n",
              "    </tr>\n",
              "    <tr>\n",
              "      <th>866</th>\n",
              "      <td>2020-03-01</td>\n",
              "      <td>4.4</td>\n",
              "    </tr>\n",
              "    <tr>\n",
              "      <th>867</th>\n",
              "      <td>2020-04-01</td>\n",
              "      <td>14.8</td>\n",
              "    </tr>\n",
              "    <tr>\n",
              "      <th>868</th>\n",
              "      <td>2020-05-01</td>\n",
              "      <td>13.3</td>\n",
              "    </tr>\n",
              "    <tr>\n",
              "      <th>869</th>\n",
              "      <td>2020-06-01</td>\n",
              "      <td>11.1</td>\n",
              "    </tr>\n",
              "    <tr>\n",
              "      <th>870</th>\n",
              "      <td>2020-07-01</td>\n",
              "      <td>10.2</td>\n",
              "    </tr>\n",
              "    <tr>\n",
              "      <th>871</th>\n",
              "      <td>2020-08-01</td>\n",
              "      <td>8.4</td>\n",
              "    </tr>\n",
              "    <tr>\n",
              "      <th>872</th>\n",
              "      <td>2020-09-01</td>\n",
              "      <td>7.8</td>\n",
              "    </tr>\n",
              "    <tr>\n",
              "      <th>873</th>\n",
              "      <td>2020-10-01</td>\n",
              "      <td>6.9</td>\n",
              "    </tr>\n",
              "    <tr>\n",
              "      <th>874</th>\n",
              "      <td>2020-11-01</td>\n",
              "      <td>6.7</td>\n",
              "    </tr>\n",
              "    <tr>\n",
              "      <th>875</th>\n",
              "      <td>2020-12-01</td>\n",
              "      <td>6.7</td>\n",
              "    </tr>\n",
              "    <tr>\n",
              "      <th>876</th>\n",
              "      <td>2021-01-01</td>\n",
              "      <td>6.3</td>\n",
              "    </tr>\n",
              "  </tbody>\n",
              "</table>\n",
              "</div>"
            ],
            "text/plain": [
              "           DATE  UNRATE\n",
              "857  2019-06-01     3.6\n",
              "858  2019-07-01     3.6\n",
              "859  2019-08-01     3.7\n",
              "860  2019-09-01     3.5\n",
              "861  2019-10-01     3.6\n",
              "862  2019-11-01     3.6\n",
              "863  2019-12-01     3.6\n",
              "864  2020-01-01     3.5\n",
              "865  2020-02-01     3.5\n",
              "866  2020-03-01     4.4\n",
              "867  2020-04-01    14.8\n",
              "868  2020-05-01    13.3\n",
              "869  2020-06-01    11.1\n",
              "870  2020-07-01    10.2\n",
              "871  2020-08-01     8.4\n",
              "872  2020-09-01     7.8\n",
              "873  2020-10-01     6.9\n",
              "874  2020-11-01     6.7\n",
              "875  2020-12-01     6.7\n",
              "876  2021-01-01     6.3"
            ]
          },
          "metadata": {
            "tags": []
          },
          "execution_count": 19
        }
      ]
    },
    {
      "cell_type": "code",
      "metadata": {
        "id": "DIXPsbb8oqjH"
      },
      "source": [
        "unemployment=unemployment.loc[:866]"
      ],
      "execution_count": null,
      "outputs": []
    },
    {
      "cell_type": "markdown",
      "metadata": {
        "id": "ffa8xbgA59iM"
      },
      "source": [
        "#Basic Plots"
      ]
    },
    {
      "cell_type": "code",
      "metadata": {
        "colab": {
          "base_uri": "https://localhost:8080/",
          "height": 281
        },
        "id": "QyJE7Jdh47Tb",
        "outputId": "32d11744-f277-492f-ba3e-e6e6882aca59"
      },
      "source": [
        "unemployment.plot()\n",
        "plt.title('Unemployment Rate')\n",
        "plt.show()"
      ],
      "execution_count": null,
      "outputs": [
        {
          "output_type": "display_data",
          "data": {
            "image/png": "[encoded data removed]",
            "text/plain": [
              "<Figure size 432x288 with 1 Axes>"
            ]
          },
          "metadata": {
            "tags": [],
            "needs_background": "light"
          }
        }
      ]
    },
    {
      "cell_type": "markdown",
      "metadata": {
        "id": "dgwOZMUR5nQ8"
      },
      "source": [
        "The x-axis doesn't make a lot of sense in terms of scale."
      ]
    },
    {
      "cell_type": "code",
      "metadata": {
        "colab": {
          "base_uri": "https://localhost:8080/",
          "height": 295
        },
        "id": "s4muAYnD5Z3v",
        "outputId": "a0f6867b-1955-4382-d448-d1977fc0ac24"
      },
      "source": [
        "unemployment.index = pd.to_datetime(unemployment.DATE)\n",
        "unemployment.plot()\n",
        "plt.title('Unemployment Rate')\n",
        "plt.show()"
      ],
      "execution_count": null,
      "outputs": [
        {
          "output_type": "display_data",
          "data": {
            "image/png": "[encoded data removed]",
            "text/plain": [
              "<Figure size 432x288 with 1 Axes>"
            ]
          },
          "metadata": {
            "tags": [],
            "needs_background": "light"
          }
        }
      ]
    },
    {
      "cell_type": "code",
      "metadata": {
        "colab": {
          "base_uri": "https://localhost:8080/",
          "height": 295
        },
        "id": "llCMSXJ05iHN",
        "outputId": "85a95619-a00c-4dd7-a61e-3bfac10674c9"
      },
      "source": [
        "unemployment['diff_1'] = unemployment.UNRATE - unemployment.UNRATE.shift()\n",
        "unemployment.plot(y='diff_1')\n",
        "plt.title('Unemployment Rate Differences')\n",
        "plt.show()"
      ],
      "execution_count": null,
      "outputs": [
        {
          "output_type": "display_data",
          "data": {
            "image/png": "[encoded data removed]",
            "text/plain": [
              "<Figure size 432x288 with 1 Axes>"
            ]
          },
          "metadata": {
            "tags": [],
            "needs_background": "light"
          }
        }
      ]
    },
    {
      "cell_type": "markdown",
      "metadata": {
        "id": "dmawyftC6UMr"
      },
      "source": [
        "Month to month differences seem relatively steady, other than when COVID hit from March to April 2020 this feels like a stable dataset. Lets look at the second difference anyway."
      ]
    },
    {
      "cell_type": "code",
      "metadata": {
        "colab": {
          "base_uri": "https://localhost:8080/",
          "height": 295
        },
        "id": "mLe01c106NRQ",
        "outputId": "ea01a092-d3fe-420e-8b91-98a8f9990767"
      },
      "source": [
        "unemployment['diff_2'] = unemployment.diff_1 - unemployment.diff_1.shift()\n",
        "unemployment.plot(y='diff_2')\n",
        "plt.title('Unemployment Rate 2nd Differences')\n",
        "plt.show()"
      ],
      "execution_count": null,
      "outputs": [
        {
          "output_type": "display_data",
          "data": {
            "image/png": "[encoded data removed]",
            "text/plain": [
              "<Figure size 432x288 with 1 Axes>"
            ]
          },
          "metadata": {
            "tags": [],
            "needs_background": "light"
          }
        }
      ]
    },
    {
      "cell_type": "markdown",
      "metadata": {
        "id": "izmg7EKu7EpY"
      },
      "source": [
        "Marginally more stationary? 2020 still super volatile."
      ]
    },
    {
      "cell_type": "markdown",
      "metadata": {
        "id": "lqgvpp_87bnF"
      },
      "source": [
        "#PACF"
      ]
    },
    {
      "cell_type": "code",
      "metadata": {
        "colab": {
          "base_uri": "https://localhost:8080/",
          "height": 301
        },
        "id": "Vp9K-FZX6-v0",
        "outputId": "84c4bb2e-970c-4c5d-946c-21bd440d7986"
      },
      "source": [
        "from statsmodels.tsa.stattools import pacf\n",
        "x_acf = pd.DataFrame(pacf(unemployment.UNRATE))\n",
        "x_acf.plot(kind='bar')\n",
        "plt.title(\"Unemployment PACF\")"
      ],
      "execution_count": null,
      "outputs": [
        {
          "output_type": "execute_result",
          "data": {
            "text/plain": [
              "Text(0.5, 1.0, 'Unemployment PACF')"
            ]
          },
          "metadata": {
            "tags": []
          },
          "execution_count": 25
        },
        {
          "output_type": "display_data",
          "data": {
            "image/png": "[encoded data removed]",
            "text/plain": [
              "<Figure size 432x288 with 1 Axes>"
            ]
          },
          "metadata": {
            "tags": [],
            "needs_background": "light"
          }
        }
      ]
    },
    {
      "cell_type": "code",
      "metadata": {
        "colab": {
          "base_uri": "https://localhost:8080/",
          "height": 301
        },
        "id": "MdZ_c-LW7ijf",
        "outputId": "380f4d22-168c-45a3-e5a1-0e21833f9128"
      },
      "source": [
        "x_acf = pd.DataFrame(pacf(unemployment.diff_1[1:]))\n",
        "x_acf.plot(kind='bar')\n",
        "plt.title(\"Unemployment Diff PACF\")\n",
        "plt.legend(['difference'])"
      ],
      "execution_count": null,
      "outputs": [
        {
          "output_type": "execute_result",
          "data": {
            "text/plain": [
              "<matplotlib.legend.Legend at 0x7fd23954c9d0>"
            ]
          },
          "metadata": {
            "tags": []
          },
          "execution_count": 26
        },
        {
          "output_type": "display_data",
          "data": {
            "image/png": "[encoded data removed]",
            "text/plain": [
              "<Figure size 432x288 with 1 Axes>"
            ]
          },
          "metadata": {
            "tags": [],
            "needs_background": "light"
          }
        }
      ]
    },
    {
      "cell_type": "code",
      "metadata": {
        "colab": {
          "base_uri": "https://localhost:8080/",
          "height": 301
        },
        "id": "fGaBegUu7yvv",
        "outputId": "5aa2b3ec-c0e8-424d-f366-c68cf9bb60e7"
      },
      "source": [
        "x_acf = pd.DataFrame(pacf(unemployment.diff_2[1:]))\n",
        "x_acf.plot(kind='bar')\n",
        "plt.title(\"Unemployment 2nd Diff PACF\")\n",
        "plt.legend(['2nd difference'])"
      ],
      "execution_count": null,
      "outputs": [
        {
          "output_type": "execute_result",
          "data": {
            "text/plain": [
              "<matplotlib.legend.Legend at 0x7fd239358c90>"
            ]
          },
          "metadata": {
            "tags": []
          },
          "execution_count": 27
        },
        {
          "output_type": "display_data",
          "data": {
            "image/png": "[encoded data removed]",
            "text/plain": [
              "<Figure size 432x288 with 1 Axes>"
            ]
          },
          "metadata": {
            "tags": [],
            "needs_background": "light"
          }
        }
      ]
    },
    {
      "cell_type": "markdown",
      "metadata": {
        "id": "1D6xRE-w8013"
      },
      "source": [
        "It seems like the original data has one strong autocorrelation, and the differences have none."
      ]
    },
    {
      "cell_type": "markdown",
      "metadata": {
        "id": "Lrt7nAZQ8OB6"
      },
      "source": [
        "#ARIMA Modeling"
      ]
    },
    {
      "cell_type": "code",
      "metadata": {
        "colab": {
          "base_uri": "https://localhost:8080/"
        },
        "id": "hl2GdsK678rh",
        "outputId": "82d7d9b1-329b-420f-ccd2-3cd45447d13a"
      },
      "source": [
        "from statsmodels.tsa.arima_model import ARIMA\n",
        "for i in [[1,1,0],[12,1,0],[6,1,0],[3,1,0]]:\n",
        "  model = ARIMA(unemployment.UNRATE, order=i)\n",
        "  model_fit = model.fit()\n",
        "  print(model_fit.summary())\n",
        "  print('Residuals Description')\n",
        "  print(model_fit.resid.describe())"
      ],
      "execution_count": null,
      "outputs": [
        {
          "output_type": "stream",
          "text": [
            "/usr/local/lib/python3.7/dist-packages/statsmodels/tsa/base/tsa_model.py:165: ValueWarning: No frequency information was provided, so inferred frequency MS will be used.\n",
            "  % freq, ValueWarning)\n",
            "/usr/local/lib/python3.7/dist-packages/statsmodels/tsa/base/tsa_model.py:165: ValueWarning: No frequency information was provided, so inferred frequency MS will be used.\n",
            "  % freq, ValueWarning)\n",
            "/usr/local/lib/python3.7/dist-packages/statsmodels/tsa/base/tsa_model.py:165: ValueWarning: No frequency information was provided, so inferred frequency MS will be used.\n",
            "  % freq, ValueWarning)\n",
            "/usr/local/lib/python3.7/dist-packages/statsmodels/tsa/base/tsa_model.py:165: ValueWarning: No frequency information was provided, so inferred frequency MS will be used.\n",
            "  % freq, ValueWarning)\n"
          ],
          "name": "stderr"
        },
        {
          "output_type": "stream",
          "text": [
            "                             ARIMA Model Results                              \n",
            "==============================================================================\n",
            "Dep. Variable:               D.UNRATE   No. Observations:                  866\n",
            "Model:                 ARIMA(1, 1, 0)   Log Likelihood                 128.284\n",
            "Method:                       css-mle   S.D. of innovations              0.209\n",
            "Date:                Mon, 01 Mar 2021   AIC                           -250.568\n",
            "Time:                        16:34:25   BIC                           -236.277\n",
            "Sample:                    02-01-1948   HQIC                          -245.099\n",
            "                         - 03-01-2020                                         \n",
            "==================================================================================\n",
            "                     coef    std err          z      P>|z|      [0.025      0.975]\n",
            "----------------------------------------------------------------------------------\n",
            "const              0.0013      0.008      0.168      0.866      -0.014       0.017\n",
            "ar.L1.D.UNRATE     0.1130      0.034      3.306      0.001       0.046       0.180\n",
            "                                    Roots                                    \n",
            "=============================================================================\n",
            "                  Real          Imaginary           Modulus         Frequency\n",
            "-----------------------------------------------------------------------------\n",
            "AR.1            8.8482           +0.0000j            8.8482            0.0000\n",
            "-----------------------------------------------------------------------------\n",
            "Residuals Description\n",
            "count    866.000000\n",
            "mean      -0.000052\n",
            "std        0.208780\n",
            "min       -1.648116\n",
            "25%       -0.112495\n",
            "50%       -0.001194\n",
            "75%        0.110108\n",
            "max        1.321410\n",
            "dtype: float64\n",
            "                             ARIMA Model Results                              \n",
            "==============================================================================\n",
            "Dep. Variable:               D.UNRATE   No. Observations:                  866\n",
            "Model:                ARIMA(12, 1, 0)   Log Likelihood                 197.560\n",
            "Method:                       css-mle   S.D. of innovations              0.193\n",
            "Date:                Mon, 01 Mar 2021   AIC                           -367.120\n",
            "Time:                        16:34:32   BIC                           -300.426\n",
            "Sample:                    02-01-1948   HQIC                          -341.595\n",
            "                         - 03-01-2020                                         \n",
            "===================================================================================\n",
            "                      coef    std err          z      P>|z|      [0.025      0.975]\n",
            "-----------------------------------------------------------------------------------\n",
            "const               0.0021      0.011      0.189      0.851      -0.019       0.024\n",
            "ar.L1.D.UNRATE      0.0113      0.034      0.329      0.742      -0.056       0.078\n",
            "ar.L2.D.UNRATE      0.2046      0.034      5.982      0.000       0.138       0.272\n",
            "ar.L3.D.UNRATE      0.1467      0.035      4.208      0.000       0.078       0.215\n",
            "ar.L4.D.UNRATE      0.1096      0.035      3.099      0.002       0.040       0.179\n",
            "ar.L5.D.UNRATE      0.1351      0.036      3.801      0.000       0.065       0.205\n",
            "ar.L6.D.UNRATE      0.0040      0.036      0.112      0.911      -0.066       0.074\n",
            "ar.L7.D.UNRATE     -0.0273      0.036     -0.761      0.447      -0.097       0.043\n",
            "ar.L8.D.UNRATE      0.0046      0.036      0.128      0.898      -0.065       0.074\n",
            "ar.L9.D.UNRATE     -0.0061      0.035     -0.171      0.864      -0.075       0.063\n",
            "ar.L10.D.UNRATE    -0.0731      0.035     -2.090      0.037      -0.142      -0.005\n",
            "ar.L11.D.UNRATE     0.0310      0.034      0.905      0.366      -0.036       0.098\n",
            "ar.L12.D.UNRATE    -0.1362      0.034     -3.972      0.000      -0.203      -0.069\n",
            "                                    Roots                                     \n",
            "==============================================================================\n",
            "                   Real          Imaginary           Modulus         Frequency\n",
            "------------------------------------------------------------------------------\n",
            "AR.1            -1.0881           -0.3107j            1.1316           -0.4557\n",
            "AR.2            -1.0881           +0.3107j            1.1316            0.4557\n",
            "AR.3            -0.7970           -0.8159j            1.1405           -0.3731\n",
            "AR.4            -0.7970           +0.8159j            1.1405            0.3731\n",
            "AR.5             1.0888           -0.2133j            1.1095           -0.0308\n",
            "AR.6             1.0888           +0.2133j            1.1095            0.0308\n",
            "AR.7            -0.2729           -1.2069j            1.2374           -0.2854\n",
            "AR.8            -0.2729           +1.2069j            1.2374            0.2854\n",
            "AR.9             0.8808           -0.8963j            1.2567           -0.1264\n",
            "AR.10            0.8808           +0.8963j            1.2567            0.1264\n",
            "AR.11            0.3021           -1.1786j            1.2168           -0.2101\n",
            "AR.12            0.3021           +1.1786j            1.2168            0.2101\n",
            "------------------------------------------------------------------------------\n",
            "Residuals Description\n",
            "count    866.000000\n",
            "mean      -0.000137\n",
            "std        0.192808\n",
            "min       -1.522546\n",
            "25%       -0.104520\n",
            "50%       -0.007767\n",
            "75%        0.110424\n",
            "max        1.093007\n",
            "dtype: float64\n"
          ],
          "name": "stdout"
        },
        {
          "output_type": "stream",
          "text": [
            "/usr/local/lib/python3.7/dist-packages/statsmodels/tsa/base/tsa_model.py:165: ValueWarning: No frequency information was provided, so inferred frequency MS will be used.\n",
            "  % freq, ValueWarning)\n",
            "/usr/local/lib/python3.7/dist-packages/statsmodels/tsa/base/tsa_model.py:165: ValueWarning: No frequency information was provided, so inferred frequency MS will be used.\n",
            "  % freq, ValueWarning)\n"
          ],
          "name": "stderr"
        },
        {
          "output_type": "stream",
          "text": [
            "                             ARIMA Model Results                              \n",
            "==============================================================================\n",
            "Dep. Variable:               D.UNRATE   No. Observations:                  866\n",
            "Model:                 ARIMA(6, 1, 0)   Log Likelihood                 182.484\n",
            "Method:                       css-mle   S.D. of innovations              0.196\n",
            "Date:                Mon, 01 Mar 2021   AIC                           -348.969\n",
            "Time:                        16:34:37   BIC                           -310.858\n",
            "Sample:                    02-01-1948   HQIC                          -334.383\n",
            "                         - 03-01-2020                                         \n",
            "==================================================================================\n",
            "                     coef    std err          z      P>|z|      [0.025      0.975]\n",
            "----------------------------------------------------------------------------------\n",
            "const              0.0030      0.015      0.198      0.843      -0.027       0.033\n",
            "ar.L1.D.UNRATE     0.0096      0.034      0.278      0.781      -0.058       0.077\n",
            "ar.L2.D.UNRATE     0.2173      0.034      6.329      0.000       0.150       0.285\n",
            "ar.L3.D.UNRATE     0.1474      0.035      4.206      0.000       0.079       0.216\n",
            "ar.L4.D.UNRATE     0.0934      0.035      2.659      0.008       0.025       0.162\n",
            "ar.L5.D.UNRATE     0.1072      0.034      3.118      0.002       0.040       0.175\n",
            "ar.L6.D.UNRATE    -0.0144      0.035     -0.416      0.677      -0.082       0.053\n",
            "                                    Roots                                    \n",
            "=============================================================================\n",
            "                  Real          Imaginary           Modulus         Frequency\n",
            "-----------------------------------------------------------------------------\n",
            "AR.1            1.2012           -0.0000j            1.2012           -0.0000\n",
            "AR.2           -1.3155           -0.8006j            1.5400           -0.4130\n",
            "AR.3           -1.3155           +0.8006j            1.5400            0.4130\n",
            "AR.4            0.2433           -1.6875j            1.7050           -0.2272\n",
            "AR.5            0.2433           +1.6875j            1.7050            0.2272\n",
            "AR.6            8.3968           -0.0000j            8.3968           -0.0000\n",
            "-----------------------------------------------------------------------------\n",
            "Residuals Description\n",
            "count    866.000000\n",
            "mean      -0.000372\n",
            "std        0.196162\n",
            "min       -1.530989\n",
            "25%       -0.101745\n",
            "50%       -0.002039\n",
            "75%        0.109925\n",
            "max        1.114382\n",
            "dtype: float64\n"
          ],
          "name": "stdout"
        },
        {
          "output_type": "stream",
          "text": [
            "/usr/local/lib/python3.7/dist-packages/statsmodels/tsa/base/tsa_model.py:165: ValueWarning: No frequency information was provided, so inferred frequency MS will be used.\n",
            "  % freq, ValueWarning)\n",
            "/usr/local/lib/python3.7/dist-packages/statsmodels/tsa/base/tsa_model.py:165: ValueWarning: No frequency information was provided, so inferred frequency MS will be used.\n",
            "  % freq, ValueWarning)\n"
          ],
          "name": "stderr"
        },
        {
          "output_type": "stream",
          "text": [
            "                             ARIMA Model Results                              \n",
            "==============================================================================\n",
            "Dep. Variable:               D.UNRATE   No. Observations:                  866\n",
            "Model:                 ARIMA(3, 1, 0)   Log Likelihood                 174.040\n",
            "Method:                       css-mle   S.D. of innovations              0.198\n",
            "Date:                Mon, 01 Mar 2021   AIC                           -338.079\n",
            "Time:                        16:34:37   BIC                           -314.260\n",
            "Sample:                    02-01-1948   HQIC                          -328.963\n",
            "                         - 03-01-2020                                         \n",
            "==================================================================================\n",
            "                     coef    std err          z      P>|z|      [0.025      0.975]\n",
            "----------------------------------------------------------------------------------\n",
            "const              0.0026      0.013      0.204      0.838      -0.022       0.027\n",
            "ar.L1.D.UNRATE     0.0342      0.034      1.009      0.313      -0.032       0.101\n",
            "ar.L2.D.UNRATE     0.2594      0.033      7.925      0.000       0.195       0.324\n",
            "ar.L3.D.UNRATE     0.1740      0.034      5.125      0.000       0.107       0.240\n",
            "                                    Roots                                    \n",
            "=============================================================================\n",
            "                  Real          Imaginary           Modulus         Frequency\n",
            "-----------------------------------------------------------------------------\n",
            "AR.1            1.3809           -0.0000j            1.3809           -0.0000\n",
            "AR.2           -1.4360           -1.4494j            2.0403           -0.3743\n",
            "AR.3           -1.4360           +1.4494j            2.0403            0.3743\n",
            "-----------------------------------------------------------------------------\n",
            "Residuals Description\n",
            "count    866.000000\n",
            "mean      -0.000346\n",
            "std        0.198065\n",
            "min       -1.511398\n",
            "25%       -0.109913\n",
            "50%        0.000141\n",
            "75%        0.114254\n",
            "max        1.192555\n",
            "dtype: float64\n"
          ],
          "name": "stdout"
        }
      ]
    },
    {
      "cell_type": "markdown",
      "metadata": {
        "id": "UcLn5yL_Jirl"
      },
      "source": [
        "(1,0,1) seems to be the best performing model - it has low p-values, and the closest log likelihood to 0. Lets look at the residuals."
      ]
    },
    {
      "cell_type": "code",
      "metadata": {
        "colab": {
          "base_uri": "https://localhost:8080/"
        },
        "id": "GfMdnDvcKAsv",
        "outputId": "a8b39ea8-4de1-4c39-8ea8-b3838f8210b4"
      },
      "source": [
        "  model = ARIMA(unemployment.UNRATE, order=(1,1,1))\n",
        "  model_fit = model.fit()\n",
        "  print(model_fit.summary())\n",
        "  print('Residuals Description')\n",
        "  print(model_fit.resid.describe())"
      ],
      "execution_count": null,
      "outputs": [
        {
          "output_type": "stream",
          "text": [
            "/usr/local/lib/python3.7/dist-packages/statsmodels/tsa/base/tsa_model.py:165: ValueWarning: No frequency information was provided, so inferred frequency MS will be used.\n",
            "  % freq, ValueWarning)\n",
            "/usr/local/lib/python3.7/dist-packages/statsmodels/tsa/base/tsa_model.py:165: ValueWarning: No frequency information was provided, so inferred frequency MS will be used.\n",
            "  % freq, ValueWarning)\n"
          ],
          "name": "stderr"
        },
        {
          "output_type": "stream",
          "text": [
            "                             ARIMA Model Results                              \n",
            "==============================================================================\n",
            "Dep. Variable:               D.UNRATE   No. Observations:                  866\n",
            "Model:                 ARIMA(1, 1, 1)   Log Likelihood                 161.734\n",
            "Method:                       css-mle   S.D. of innovations              0.201\n",
            "Date:                Mon, 01 Mar 2021   AIC                           -315.467\n",
            "Time:                        16:36:16   BIC                           -296.412\n",
            "Sample:                    02-01-1948   HQIC                          -308.175\n",
            "                         - 03-01-2020                                         \n",
            "==================================================================================\n",
            "                     coef    std err          z      P>|z|      [0.025      0.975]\n",
            "----------------------------------------------------------------------------------\n",
            "const              0.0029      0.015      0.194      0.846      -0.026       0.032\n",
            "ar.L1.D.UNRATE     0.8707      0.030     29.315      0.000       0.812       0.929\n",
            "ma.L1.D.UNRATE    -0.7185      0.038    -18.918      0.000      -0.793      -0.644\n",
            "                                    Roots                                    \n",
            "=============================================================================\n",
            "                  Real          Imaginary           Modulus         Frequency\n",
            "-----------------------------------------------------------------------------\n",
            "AR.1            1.1485           +0.0000j            1.1485            0.0000\n",
            "MA.1            1.3918           +0.0000j            1.3918            0.0000\n",
            "-----------------------------------------------------------------------------\n",
            "Residuals Description\n",
            "count    866.000000\n",
            "mean      -0.000359\n",
            "std        0.200895\n",
            "min       -1.759624\n",
            "25%       -0.104119\n",
            "50%        0.002038\n",
            "75%        0.117944\n",
            "max        1.214510\n",
            "dtype: float64\n"
          ],
          "name": "stdout"
        }
      ]
    },
    {
      "cell_type": "code",
      "metadata": {
        "colab": {
          "base_uri": "https://localhost:8080/",
          "height": 576
        },
        "id": "se9xuflc88p-",
        "outputId": "1d8f7e8b-9aec-473c-89b3-845b8ef89b82"
      },
      "source": [
        "import pandas as pd\n",
        "residuals = pd.DataFrame(model_fit.resid)\n",
        "\n",
        "residuals.plot(legend=False)\n",
        "plt.title('Time Series of Residuals')\n",
        "\n",
        "residuals.hist(bins=20)\n",
        "plt.title('Histogram of Residuals')"
      ],
      "execution_count": null,
      "outputs": [
        {
          "output_type": "execute_result",
          "data": {
            "text/plain": [
              "Text(0.5, 1.0, 'Histogram of Residuals')"
            ]
          },
          "metadata": {
            "tags": []
          },
          "execution_count": 29
        },
        {
          "output_type": "display_data",
          "data": {
            "image/png": "[encoded data removed]",
            "text/plain": [
              "<Figure size 432x288 with 1 Axes>"
            ]
          },
          "metadata": {
            "tags": [],
            "needs_background": "light"
          }
        },
        {
          "output_type": "display_data",
          "data": {
            "image/png": "[encoded data removed]",
            "text/plain": [
              "<Figure size 432x288 with 1 Axes>"
            ]
          },
          "metadata": {
            "tags": [],
            "needs_background": "light"
          }
        }
      ]
    },
    {
      "cell_type": "markdown",
      "metadata": {
        "id": "9RmLs43hKfXi"
      },
      "source": [
        "No trends, seems (relatively) normally distributed - lets look at AIC."
      ]
    },
    {
      "cell_type": "code",
      "metadata": {
        "colab": {
          "base_uri": "https://localhost:8080/"
        },
        "id": "QhgEgQEkJ1-p",
        "outputId": "bd918f21-6efe-4bc6-c569-d7f792cdb6b6"
      },
      "source": [
        "import math\n",
        "for x in [993.867, 986.424, 994.240, 992.512]:\n",
        "  print('There is a {} probability that you lost less information than the ARIMA 101 model.'.format(math.exp((985.284 - x)/2)))"
      ],
      "execution_count": null,
      "outputs": [
        {
          "output_type": "stream",
          "text": [
            "There is a 0.013684383319753933 probability that you lost less information than the ARIMA 101 model.\n",
            "There is a 0.565525438699541 probability that you lost less information than the ARIMA 101 model.\n",
            "There is a 0.011356102662921714 probability that you lost less information than the ARIMA 101 model.\n",
            "There is a 0.02694385560539588 probability that you lost less information than the ARIMA 101 model.\n"
          ],
          "name": "stdout"
        }
      ]
    },
    {
      "cell_type": "markdown",
      "metadata": {
        "id": "TeE2E5igMlMQ"
      },
      "source": [
        "Generally it looks like our ARMA(1,1) model performed the best, although it wasn't super clear. It had p-values that indicated significance, no trends in and normally distributed residuals, smallest abs val log likelihood and AIC."
      ]
    }
  ]
}